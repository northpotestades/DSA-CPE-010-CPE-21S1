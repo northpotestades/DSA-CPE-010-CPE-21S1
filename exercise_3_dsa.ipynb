{
  "nbformat": 4,
  "nbformat_minor": 0,
  "metadata": {
    "colab": {
      "provenance": [],
      "authorship_tag": "ABX9TyPQ1Z+Jf1zaSq7xQhFWfNpt",
      "include_colab_link": true
    },
    "kernelspec": {
      "name": "python3",
      "display_name": "Python 3"
    },
    "language_info": {
      "name": "python"
    }
  },
  "cells": [
    {
      "cell_type": "markdown",
      "metadata": {
        "id": "view-in-github",
        "colab_type": "text"
      },
      "source": [
        "<a href=\"https://colab.research.google.com/github/northpotestades/DSA-CPE-010-CPE-21S1/blob/main/exercise_3_dsa.ipynb\" target=\"_parent\"><img src=\"https://colab.research.google.com/assets/colab-badge.svg\" alt=\"Open In Colab\"/></a>"
      ]
    },
    {
      "cell_type": "code",
      "source": [
        "#Accessing the elements in the array\n",
        "\n",
        "animals=['cat','dog','fish']\n",
        "x=animals[0]\n",
        "print(x)"
      ],
      "metadata": {
        "colab": {
          "base_uri": "https://localhost:8080/"
        },
        "id": "SAiOkx54MONv",
        "outputId": "0527afeb-f5f6-43d9-df8f-0c5e233b73b7"
      },
      "execution_count": null,
      "outputs": [
        {
          "output_type": "stream",
          "name": "stdout",
          "text": [
            "cat\n"
          ]
        }
      ]
    },
    {
      "cell_type": "code",
      "source": [
        "#Modifying the elements in the array\n",
        "\n",
        "animals=['cat','dog','fish']\n",
        "animals[0]='monkey'\n",
        "print(animals)"
      ],
      "metadata": {
        "colab": {
          "base_uri": "https://localhost:8080/"
        },
        "id": "vmc6R7RfNC1u",
        "outputId": "d23d9225-956f-4db0-8f06-035eb0672922"
      },
      "execution_count": null,
      "outputs": [
        {
          "output_type": "stream",
          "name": "stdout",
          "text": [
            "['monkey', 'dog', 'fish']\n"
          ]
        }
      ]
    },
    {
      "cell_type": "code",
      "source": [
        "#Count the length of an array\n",
        "\n",
        "animals=['cat','dog','fish']\n",
        "x=len(animals)\n",
        "print(x)"
      ],
      "metadata": {
        "colab": {
          "base_uri": "https://localhost:8080/"
        },
        "id": "zVM8MWsdNK8s",
        "outputId": "13691431-7b85-412f-d6fc-69a764c40570"
      },
      "execution_count": null,
      "outputs": [
        {
          "output_type": "stream",
          "name": "stdout",
          "text": [
            "3\n"
          ]
        }
      ]
    },
    {
      "cell_type": "code",
      "source": [
        "#Looping array elements\n",
        "\n",
        "adj=['kind','friendly','lovable']\n",
        "animals=['cat','dog','fish']\n",
        "for x in adj:\n",
        "  for y in animals:\n",
        "    print(x,y)"
      ],
      "metadata": {
        "colab": {
          "base_uri": "https://localhost:8080/"
        },
        "id": "Bd56aDAJNb_q",
        "outputId": "7c040cfe-60f7-4a89-aff9-bf82def8dd90"
      },
      "execution_count": 42,
      "outputs": [
        {
          "output_type": "stream",
          "name": "stdout",
          "text": [
            "kind cat\n",
            "kind dog\n",
            "kind fish\n",
            "friendly cat\n",
            "friendly dog\n",
            "friendly fish\n",
            "lovable cat\n",
            "lovable dog\n",
            "lovable fish\n"
          ]
        }
      ]
    },
    {
      "cell_type": "code",
      "source": [
        "#Adding an element after the last item in the array list\n",
        "\n",
        "animals=['cat','dog','fish']\n",
        "animals.append('monkey')\n",
        "print(animals)"
      ],
      "metadata": {
        "colab": {
          "base_uri": "https://localhost:8080/"
        },
        "id": "ECVz7bGlOEQn",
        "outputId": "f26f3c30-af39-4f7e-8622-d1283c75f480"
      },
      "execution_count": null,
      "outputs": [
        {
          "output_type": "stream",
          "name": "stdout",
          "text": [
            "['cat', 'dog', 'fish', 'monkey']\n"
          ]
        }
      ]
    },
    {
      "cell_type": "code",
      "source": [
        "#Adding an element before the 1st item in the array list\n",
        "\n",
        "animals.insert(0,'bird')\n",
        "animals.insert(3,'cow')\n",
        "print(animals)"
      ],
      "metadata": {
        "colab": {
          "base_uri": "https://localhost:8080/"
        },
        "id": "ij86m77HOalt",
        "outputId": "15a71973-5790-4279-af04-986abc4dcc88"
      },
      "execution_count": null,
      "outputs": [
        {
          "output_type": "stream",
          "name": "stdout",
          "text": [
            "['bird', 'cat', 'dog', 'cow', 'fish', 'monkey']\n"
          ]
        }
      ]
    },
    {
      "cell_type": "code",
      "source": [
        "#Remove an element in the array\n",
        "\n",
        "animals.pop(0)\n",
        "print(animals)"
      ],
      "metadata": {
        "colab": {
          "base_uri": "https://localhost:8080/"
        },
        "id": "m4zR2d5PPw7h",
        "outputId": "e8f85fb5-0730-4745-f09b-a9307a265761"
      },
      "execution_count": null,
      "outputs": [
        {
          "output_type": "stream",
          "name": "stdout",
          "text": [
            "['cat', 'dog', 'cow', 'fish', 'monkey']\n"
          ]
        }
      ]
    },
    {
      "cell_type": "code",
      "source": [
        "#Reverse all the elements in the array\n",
        "\n",
        "animals.reverse()\n",
        "print(animals)"
      ],
      "metadata": {
        "colab": {
          "base_uri": "https://localhost:8080/"
        },
        "id": "T1GxytRuQD8u",
        "outputId": "ba681bd3-3f34-4872-dee7-b1e4672ef525"
      },
      "execution_count": null,
      "outputs": [
        {
          "output_type": "stream",
          "name": "stdout",
          "text": [
            "['monkey', 'fish', 'cow', 'dog', 'cat']\n"
          ]
        }
      ]
    }
  ]
}