{
  "nbformat": 4,
  "nbformat_minor": 0,
  "metadata": {
    "colab": {
      "provenance": [],
      "authorship_tag": "ABX9TyPI7hevqeq2ArnneYLYr2bA",
      "include_colab_link": true
    },
    "kernelspec": {
      "name": "python3",
      "display_name": "Python 3"
    },
    "language_info": {
      "name": "python"
    }
  },
  "cells": [
    {
      "cell_type": "markdown",
      "metadata": {
        "id": "view-in-github",
        "colab_type": "text"
      },
      "source": [
        "<a href=\"https://colab.research.google.com/github/northpotestades/DSA-CPE-010-CPE-21S1/blob/main/exercise_5_dsa.ipynb\" target=\"_parent\"><img src=\"https://colab.research.google.com/assets/colab-badge.svg\" alt=\"Open In Colab\"/></a>"
      ]
    },
    {
      "cell_type": "code",
      "execution_count": 3,
      "metadata": {
        "colab": {
          "base_uri": "https://localhost:8080/"
        },
        "id": "q2HB-RTiYycf",
        "outputId": "d396b332-df4c-4715-8082-97fbaea65345"
      },
      "outputs": [
        {
          "output_type": "stream",
          "name": "stdout",
          "text": [
            "i\n",
            "f\n"
          ]
        }
      ],
      "source": [
        "#example 1 array\n",
        "\n",
        "import array\n",
        "array.typecodes #get all typecodes\n",
        "a=array.array('i',[1,2,3,4,5,6]) #initializing array a\n",
        "b=array.array('f',[1.5,2.5,3.5,4.5,5.5,6.5]) #initializing array b\n",
        "print(a.typecode)\n",
        "print(b.typecode)"
      ]
    },
    {
      "cell_type": "code",
      "source": [
        "#example 2 array\n",
        "\n",
        "import array\n",
        "array.typecodes #get all typecodes\n",
        "a=array.array('f',[1,2,3,4,5,6]) #initializing array a\n",
        "b=array.array('f',[1.5,2.5,3.5,4.5,5.5,6.5]) #initializing array b\n",
        "print(a.typecode)\n",
        "print(b.typecode)"
      ],
      "metadata": {
        "colab": {
          "base_uri": "https://localhost:8080/"
        },
        "id": "rkSXPhpubWQz",
        "outputId": "fb616439-863b-4c0a-ccb1-d33a208f3609"
      },
      "execution_count": 7,
      "outputs": [
        {
          "output_type": "stream",
          "name": "stdout",
          "text": [
            "f\n",
            "f\n"
          ]
        }
      ]
    },
    {
      "cell_type": "code",
      "source": [
        "#inserting elements into array\n",
        "\n",
        "from array import array #importng array from array module\n",
        "a=array('i',[4,5,6,7]) #initializing array\n",
        "a.insert(1,2) #inserting element 2 at index 1\n",
        "print(a) #printing array a\n",
        "a.insert(-1,0) #inserting element 0 at index -1\n",
        "print(a)\n",
        "a.insert(10,-1) #inserting element -1 at index 10, this is out of range\n",
        "print(a)"
      ],
      "metadata": {
        "colab": {
          "base_uri": "https://localhost:8080/"
        },
        "id": "knZaubAfb3ua",
        "outputId": "2cd38197-956e-46f9-ca29-6982f327014b"
      },
      "execution_count": 11,
      "outputs": [
        {
          "output_type": "stream",
          "name": "stdout",
          "text": [
            "array('i', [4, 2, 5, 6, 7])\n",
            "array('i', [4, 2, 5, 6, 0, 7])\n",
            "array('i', [4, 2, 5, 6, 0, 7, -1])\n"
          ]
        }
      ]
    },
    {
      "cell_type": "code",
      "source": [
        "#example 3\n",
        "\n",
        "#Node class\n",
        "class Node:\n",
        "  #function to initialize the node object\n",
        "  def __init__(self,data):\n",
        "    self.data=data #assign data\n",
        "    self.next=None  #initialize next as null\n",
        "\n",
        "#Linked List class\n",
        "class LinkedList:\n",
        "  #function to initialize the linked list object\n",
        "  def __init__(self):\n",
        "    self.head=None"
      ],
      "metadata": {
        "id": "0y0NvrQFdxs6"
      },
      "execution_count": 15,
      "outputs": []
    },
    {
      "cell_type": "code",
      "source": [
        "#example 4\n",
        "\n",
        "#Node class\n",
        "class Node:\n",
        "  #function to initialize the node object\n",
        "  def __init__(self,data):\n",
        "    self.data=data #assign data\n",
        "    self.next=None  #initialize next as null\n",
        "\n",
        "#Linked List class\n",
        "class LinkedList:\n",
        "  #function to initialize the linked list object\n",
        "  def __init__(self):\n",
        "    self.head=None\n",
        "  def printdata(self):\n",
        "    temp=self.head\n",
        "    while (temp):\n",
        "      print(temp.data)\n",
        "      temp=temp.next\n",
        "\n",
        "#code execution starts here\n",
        "if __name__=='__main__':\n",
        "  #start with the empty list\n",
        "  llist=LinkedList()\n",
        "  llist.head=Node(1)\n",
        "  second=Node(2)\n",
        "  third=Node(3)\n",
        "  llist.head.next=second #link first node with the second\n",
        "  second.next=third #link second node with the third node\n",
        "  llist.printdata()"
      ],
      "metadata": {
        "colab": {
          "base_uri": "https://localhost:8080/"
        },
        "id": "zYv9YC5gh-Q6",
        "outputId": "7af8d3ad-c01d-475d-8b80-28c41b187ffd"
      },
      "execution_count": 20,
      "outputs": [
        {
          "output_type": "stream",
          "name": "stdout",
          "text": [
            "1\n",
            "2\n",
            "3\n"
          ]
        }
      ]
    }
  ]
}