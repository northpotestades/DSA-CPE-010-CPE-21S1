{
  "nbformat": 4,
  "nbformat_minor": 0,
  "metadata": {
    "colab": {
      "provenance": [],
      "authorship_tag": "ABX9TyOGqL5+//LF3HpjjnYRYbe+",
      "include_colab_link": true
    },
    "kernelspec": {
      "name": "python3",
      "display_name": "Python 3"
    },
    "language_info": {
      "name": "python"
    }
  },
  "cells": [
    {
      "cell_type": "markdown",
      "metadata": {
        "id": "view-in-github",
        "colab_type": "text"
      },
      "source": [
        "<a href=\"https://colab.research.google.com/github/northpotestades/DSA-CPE-010-CPE-21S1/blob/main/exercise_1_dsa.ipynb\" target=\"_parent\"><img src=\"https://colab.research.google.com/assets/colab-badge.svg\" alt=\"Open In Colab\"/></a>"
      ]
    },
    {
      "cell_type": "code",
      "execution_count": 2,
      "metadata": {
        "colab": {
          "base_uri": "https://localhost:8080/"
        },
        "id": "TyqW0nZ2bie-",
        "outputId": "2cd07c65-861a-48cb-c588-fa601f598afe"
      },
      "outputs": [
        {
          "output_type": "stream",
          "name": "stdout",
          "text": [
            "Enter the width of the rectangle: 10\n",
            "Enter the height of the rectangle: 12\n",
            "120\n"
          ]
        }
      ],
      "source": [
        "class Rectangle():\n",
        "  def __init__(self,width,height):\n",
        "    self.width=width\n",
        "    self.height=height\n",
        "\n",
        "def Area(self):\n",
        "  return self.width*self.height\n",
        "\n",
        "width=int(input(\"Enter the width of the rectangle: \"))\n",
        "height=int(input(\"Enter the height of the rectangle: \"))\n",
        "r=Rectangle(width,height)\n",
        "\n",
        "print(Area(r))"
      ]
    }
  ]
}