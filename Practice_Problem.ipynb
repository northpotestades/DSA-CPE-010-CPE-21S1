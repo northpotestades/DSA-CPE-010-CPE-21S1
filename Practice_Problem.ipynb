{
  "nbformat": 4,
  "nbformat_minor": 0,
  "metadata": {
    "colab": {
      "provenance": [],
      "authorship_tag": "ABX9TyPG9u6lwQI1O0dJOMbZ+Ut7",
      "include_colab_link": true
    },
    "kernelspec": {
      "name": "python3",
      "display_name": "Python 3"
    },
    "language_info": {
      "name": "python"
    }
  },
  "cells": [
    {
      "cell_type": "markdown",
      "metadata": {
        "id": "view-in-github",
        "colab_type": "text"
      },
      "source": [
        "<a href=\"https://colab.research.google.com/github/northpotestades/DSA-CPE-010-CPE-21S1/blob/main/Practice_Problem.ipynb\" target=\"_parent\"><img src=\"https://colab.research.google.com/assets/colab-badge.svg\" alt=\"Open In Colab\"/></a>"
      ]
    },
    {
      "cell_type": "code",
      "execution_count": 2,
      "metadata": {
        "colab": {
          "base_uri": "https://localhost:8080/"
        },
        "id": "Hlp9M3L1PzHn",
        "outputId": "c50fb175-64aa-4b9f-f55a-a4bdf720498c"
      },
      "outputs": [
        {
          "output_type": "stream",
          "name": "stdout",
          "text": [
            "186\n"
          ]
        }
      ],
      "source": [
        "sum=0\n",
        "list=[26,49,98,87,62,75]\n",
        "for i in list:\n",
        "  if i%2==0:\n",
        "    sum=sum+i\n",
        "  else:\n",
        "    pass\n",
        "print(\"The sum is:\",sum)"
      ]
    }
  ]
}