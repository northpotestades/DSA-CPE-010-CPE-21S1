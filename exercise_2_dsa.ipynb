{
  "nbformat": 4,
  "nbformat_minor": 0,
  "metadata": {
    "colab": {
      "provenance": [],
      "authorship_tag": "ABX9TyPjOVsojbBu0TzBaVn2LL6F",
      "include_colab_link": true
    },
    "kernelspec": {
      "name": "python3",
      "display_name": "Python 3"
    },
    "language_info": {
      "name": "python"
    }
  },
  "cells": [
    {
      "cell_type": "markdown",
      "metadata": {
        "id": "view-in-github",
        "colab_type": "text"
      },
      "source": [
        "<a href=\"https://colab.research.google.com/github/northpotestades/DSA-CPE-010-CPE-21S1/blob/main/exercise_2_dsa.ipynb\" target=\"_parent\"><img src=\"https://colab.research.google.com/assets/colab-badge.svg\" alt=\"Open In Colab\"/></a>"
      ]
    },
    {
      "cell_type": "code",
      "execution_count": 24,
      "metadata": {
        "colab": {
          "base_uri": "https://localhost:8080/"
        },
        "id": "WPbDr6KENqFi",
        "outputId": "9d4c1675-edb4-4478-9fa0-faef0f47961f"
      },
      "outputs": [
        {
          "output_type": "stream",
          "name": "stdout",
          "text": [
            "Enter the width of the rectangle: 10\n",
            "Enter the length of the rectangle: 2\n",
            "Enter the base of the triangle: 11\n",
            "Enter the height of the triangle: 3\n",
            "Enter the length of each side of the square: 2\n",
            "The area of the rectangle is:  20.0\n",
            "The area of the triangle is:  16.5\n",
            "The area of the square is:  4.0\n"
          ]
        }
      ],
      "source": [
        "class Shapes():\n",
        "  class Rectangle():\n",
        "    def __init__(self,width,length):\n",
        "      self.width=width\n",
        "      self.length=length\n",
        "  class Triangle():\n",
        "    def __init__(self,base,height):\n",
        "      self.base=base\n",
        "      self.height=height\n",
        "  class Square():\n",
        "    def __init__(self,side):\n",
        "      self.side=side\n",
        "\n",
        "width=float(input(\"Enter the width of the rectangle: \"))\n",
        "length=float(input(\"Enter the length of the rectangle: \"))\n",
        "rectangle=Shapes.Rectangle(width,length)\n",
        "\n",
        "base=float(input(\"Enter the base of the triangle: \"))\n",
        "height=float(input(\"Enter the height of the triangle: \"))\n",
        "triangle=Shapes.Triangle(base,height)\n",
        "\n",
        "side=float(input(\"Enter the length of each side of the square: \"))\n",
        "square=Shapes.Square(side)\n",
        "\n",
        "def Area():\n",
        "  print(\"The area of the rectangle is: \",rectangle.width*rectangle.length)\n",
        "  print(\"The area of the triangle is: \",triangle.base*triangle.height/2)\n",
        "  print(\"The area of the square is: \",square.side**2)\n",
        "\n",
        "Area()"
      ]
    }
  ]
}