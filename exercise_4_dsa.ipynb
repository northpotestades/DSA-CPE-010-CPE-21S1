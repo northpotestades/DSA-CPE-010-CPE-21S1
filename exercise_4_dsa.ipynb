{
  "nbformat": 4,
  "nbformat_minor": 0,
  "metadata": {
    "colab": {
      "provenance": [],
      "authorship_tag": "ABX9TyMaNveAYS6CIalmuxf+wOI4",
      "include_colab_link": true
    },
    "kernelspec": {
      "name": "python3",
      "display_name": "Python 3"
    },
    "language_info": {
      "name": "python"
    }
  },
  "cells": [
    {
      "cell_type": "markdown",
      "metadata": {
        "id": "view-in-github",
        "colab_type": "text"
      },
      "source": [
        "<a href=\"https://colab.research.google.com/github/northpotestades/DSA-CPE-010-CPE-21S1/blob/main/exercise_4_dsa.ipynb\" target=\"_parent\"><img src=\"https://colab.research.google.com/assets/colab-badge.svg\" alt=\"Open In Colab\"/></a>"
      ]
    },
    {
      "cell_type": "code",
      "execution_count": 17,
      "metadata": {
        "colab": {
          "base_uri": "https://localhost:8080/"
        },
        "id": "uHp8yWRGv6PD",
        "outputId": "dd0b5ed7-9ff3-478b-deb5-04a6ad9158d6"
      },
      "outputs": [
        {
          "output_type": "stream",
          "name": "stdout",
          "text": [
            "['tac', 'god', 'hsif']\n"
          ]
        }
      ],
      "source": [
        "#Reverse each word in a list\n",
        "\n",
        "animals=['cat','dog','fish']\n",
        "slamina=[]\n",
        "for x in animals:\n",
        "  slamina.append(x[::-1])\n",
        "print(slamina)"
      ]
    }
  ]
}